{
 "cells": [
  {
   "cell_type": "code",
   "execution_count": 5,
   "id": "0be8d567",
   "metadata": {},
   "outputs": [
    {
     "name": "stdout",
     "output_type": "stream",
     "text": [
      "expiratory flow (ml/s)\n",
      "[   4.2    8.5   10.3   17.2   20.7   38.2   75.6  850.  1550. ]\n",
      "expiratory NO concentration (ppb)\n",
      "[[ 83.3  53.3  44.8  32.6  28.1  19.5  11.5   5.7   5.3]\n",
      " [125.2  71.3  68.   45.9  40.3  21.8  16.1   7.4   5.6]\n",
      " [171.  107.2  94.3  62.   54.9  34.   22.5   5.3   4. ]\n",
      " [143.7  81.8  70.8  51.2  48.3  27.   17.2   4.6   3.9]\n",
      " [ 92.4  69.8  60.1  46.6  43.1  26.1  16.7   6.6   6.2]\n",
      " [108.5  46.9  53.8  35.6  29.4  18.6  13.    6.3   3.9]\n",
      " [ 56.3  41.4  36.1  29.8  23.3  15.8  10.6   5.4   4. ]\n",
      " [ 27.5  22.   19.8  16.7  14.1   9.2   5.3   4.4   4. ]\n",
      " [101.6  63.4  52.4  36.1  33.4  19.4  11.4   5.7   6.6]\n",
      " [215.9 176.7 150.8 106.9  99.8  57.9  32.8   8.3   7.6]]\n"
     ]
    }
   ],
   "source": [
    "import numpy as np\n",
    "import matplotlib.pyplot as plt\n",
    "import scipy.optimize as opt\n",
    "\n",
    "#data encoding\n",
    "\n",
    "#x : expiratory flow (ml/s)\n",
    "#y : expiratory NO concentration (ppb) \n",
    "\n",
    "x = np.array([4.2, 8.5, 10.3, 17.2, 20.7, 38.2 , 75.6, 850 , 1550])\n",
    "y1 =  np.array([83.3, 53.3 , 44.8 , 32.6 , 28.1 , 19.5 , 11.5, 5.7 , 5.3])\n",
    "y2 = np.array([125.2 , 71.3 , 68.0 , 45.9 , 40.3 , 21.8 , 16.1, 7.4 , 5.6])\n",
    "y3 =  np.array([171.0, 107.2, 94.3 , 62.0 , 54.9 , 34.0 , 22.5, 5.3 , 4.0])\n",
    "y4 =  np.array([143.7, 81.8 , 70.8 , 51.2 , 48.3 , 27.0 , 17.2,4.6 , 3.9])\n",
    "y5 =  np.array([92.4, 69.8 , 60.1 , 46.6 , 43.1 , 26.1 , 16.7, 6.6 , 6.2])\n",
    "y6 =  np.array([108.5, 46.9, 53.8 , 35.6 , 29.4 , 18.6 , 13.0 , 6.3, 3.9])\n",
    "y7 =  np.array([56.3, 41.4, 36.1, 29.8, 23.3, 15.8, 10.6, 5.4, 4.0])\n",
    "y8 =  np.array([27.5, 22.0, 19.8, 16.7, 14.1, 9.2, 5.3, 4.4, 4.0])\n",
    "y9 =  np.array([101.6, 63.4, 52.4, 36.1, 33.4, 19.4, 11.4, 5.7, 6.6])\n",
    "y10 =  np.array([215.9, 176.7, 150.8, 106.9, 99.8, 57.9, 32.8, 8.3, 7.6])\n",
    "\n",
    "y = np.zeros((10, 9))\n",
    "\n",
    "y[0]  = y1\n",
    "y[1] = y2\n",
    "y[2]  = y3\n",
    "y[3] = y4\n",
    "y[4]  = y5\n",
    "y[5] = y6\n",
    "y[6]  = y7\n",
    "y[7] = y8\n",
    "y[8]  = y9\n",
    "y[9] = y10\n",
    "\n",
    "print('expiratory flow (ml/s)')\n",
    "print(x)\n",
    "print('expiratory NO concentration (ppb)')\n",
    "print(y)"
   ]
  },
  {
   "cell_type": "code",
   "execution_count": 6,
   "id": "65fbac7b",
   "metadata": {
    "scrolled": false
   },
   "outputs": [
    {
     "name": "stdout",
     "output_type": "stream",
     "text": [
      "1   CALV = 5.4 DNO = 4.1 ; CW = 129.9 ; χ² = 0.62\n",
      "2   CALV = 6.2 DNO = 3.2 ; CW = 226.1 ; χ² = 4.82\n",
      "3   CALV = 5.1 DNO = 4.5 ; CW = 257.8 ; χ² = 1.9\n",
      "4   CALV = 5.7 DNO = 3.1 ; CW = 267.0 ; χ² = 8.97\n",
      "5   CALV = 5.9 DNO = 9.1 ; CW = 102.8 ; χ² = 1.78\n",
      "6   CALV = 6.7 DNO = 0.2 ; CW = 2685.3 ; χ² = 18.17\n",
      "7   CALV = 4.4 DNO = 8.2 ; CW = 64.5 ; χ² = 1.1\n",
      "8   CALV = 3.4 DNO = 10.6 ; CW = 29.6 ; χ² = 0.56\n",
      "9   CALV = 5.2 DNO = 3.4 ; CW = 179.4 ; χ² = 1.19\n",
      "10   CALV = 4.2 DNO = 10.6 ; CW = 236.8 ; χ² = 10.86\n"
     ]
    },
    {
     "data": {
      "image/png": "[encoded data removed]",
      "text/plain": [
       "<Figure size 432x288 with 1 Axes>"
      ]
     },
     "metadata": {
      "needs_background": "light"
     },
     "output_type": "display_data"
    }
   ],
   "source": [
    "#NON-LINEAR REGRESSION\n",
    "\n",
    "#INIT \n",
    "\n",
    "nbpts = x.shape[0] # numbers of points\n",
    "A0 = (5,15,5000)# random inital parameters of the model\n",
    "\n",
    "# *************\n",
    "# * Fonctions *\n",
    "# *************\n",
    "\n",
    "CALV_list = []\n",
    "DNO_list = []\n",
    "Cw_list = []\n",
    "\n",
    "def model(A, x):\n",
    "    return (A[1] * (( 1 - np.exp((-A[0])/x))) + (A[2] * np.exp((-A[0])/x))) #model of the article\n",
    "        \n",
    "def error_(A, x, y):\n",
    "    return y - model(A, x) #error between any y value and the model\n",
    "\n",
    "\n",
    "for z in range (y.shape[0]) : \n",
    "    \n",
    "\n",
    "    resultat = opt.least_squares(error_, A0, args=(x, y[z])) #non linear regression\n",
    "\n",
    "    Aopt = resultat.x # parameters at the optimum\n",
    "    aopt = Aopt[0]\n",
    "    bopt = Aopt[1]\n",
    "    copt = Aopt[2]\n",
    "    erreur = 2*resultat.cost/nbpts #error\n",
    "    \n",
    "    \n",
    "    DNO_list.append(aopt) #fill in list with all parameters of each subject\n",
    "    Cw_list.append(bopt)\n",
    "    CALV_list.append(copt)\n",
    "\n",
    "    #display \n",
    "    \n",
    "    \n",
    "    plt.plot(x, y[z], \"b+\") #scatter plot\n",
    "    plt.plot(x, model((aopt, bopt, copt), x)) #regression line\n",
    "\n",
    "    print(z+1, \" \", \"CALV =\", copt.round(1),\"DNO =\", aopt.round(1), \"; CW =\", bopt.round(1), \n",
    "          \"; χ² =\", erreur.round(2))\n",
    "    "
   ]
  },
  {
   "cell_type": "code",
   "execution_count": 7,
   "id": "a97ddcfd",
   "metadata": {},
   "outputs": [
    {
     "data": {
      "text/plain": [
       "0.1607837576405777"
      ]
     },
     "execution_count": 7,
     "metadata": {},
     "output_type": "execute_result"
    }
   ],
   "source": [
    "#REMOVE element 6 because there is no convergence\n",
    "\n",
    "CALV_list.pop(5)\n",
    "Cw_list.pop(5)\n",
    "DNO_list.pop(5)\n"
   ]
  },
  {
   "cell_type": "code",
   "execution_count": 8,
   "id": "9b62f63b",
   "metadata": {},
   "outputs": [
    {
     "name": "stdout",
     "output_type": "stream",
     "text": [
      "CALV geometric MEAN 4.977418679469171\n",
      "CW geometric MEAN 136.86445646126927\n",
      "DNO geometric MEAN 5.585843427164049\n",
      "\n",
      "Rounded CALV geometric MEAN 4.98\n",
      "Rounded CW geometric MEAN 136.86\n",
      "Rounded DNO geometric MEAN 5.59\n"
     ]
    }
   ],
   "source": [
    "#calculate geometric mean \n",
    "\n",
    "from scipy.stats.mstats import gmean\n",
    "\n",
    "\n",
    "print(\"CALV geometric MEAN\", gmean(CALV_list))\n",
    "print(\"CW geometric MEAN\",gmean(Cw_list))\n",
    "print(\"DNO geometric MEAN\",gmean(DNO_list))\n",
    "\n",
    "print('')\n",
    "#Rounded values\n",
    "print(\"Rounded CALV geometric MEAN\", gmean(CALV_list).round(2))\n",
    "print(\"Rounded CW geometric MEAN\",gmean(Cw_list).round(2))\n",
    "print(\"Rounded DNO geometric MEAN\",gmean(DNO_list).round(2))\n"
   ]
  },
  {
   "cell_type": "code",
   "execution_count": null,
   "id": "bc96acbc",
   "metadata": {},
   "outputs": [],
   "source": []
  }
 ],
 "metadata": {
  "kernelspec": {
   "display_name": "Python 3 (ipykernel)",
   "language": "python",
   "name": "python3"
  },
  "language_info": {
   "codemirror_mode": {
    "name": "ipython",
    "version": 3
   },
   "file_extension": ".py",
   "mimetype": "text/x-python",
   "name": "python",
   "nbconvert_exporter": "python",
   "pygments_lexer": "ipython3",
   "version": "3.9.7"
  }
 },
 "nbformat": 4,
 "nbformat_minor": 5
}
